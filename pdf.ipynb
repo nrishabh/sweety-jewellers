{
 "cells": [
  {
   "cell_type": "code",
   "execution_count": 1,
   "metadata": {},
   "outputs": [],
   "source": [
    "from fpdf import FPDF"
   ]
  },
  {
   "cell_type": "code",
   "execution_count": 5,
   "metadata": {},
   "outputs": [],
   "source": [
    "class PDF(FPDF):\n",
    "\n",
    "    def __init__(self):\n",
    "        super(PDF, self).__init__(orientation='L', unit='mm', format='A3')"
   ]
  }
 ],
 "metadata": {
  "kernelspec": {
   "display_name": "Python 3.9.13 ('sweety')",
   "language": "python",
   "name": "python3"
  },
  "language_info": {
   "codemirror_mode": {
    "name": "ipython",
    "version": 3
   },
   "file_extension": ".py",
   "mimetype": "text/x-python",
   "name": "python",
   "nbconvert_exporter": "python",
   "pygments_lexer": "ipython3",
   "version": "3.9.13"
  },
  "orig_nbformat": 4,
  "vscode": {
   "interpreter": {
    "hash": "12ac1b1e0e659ae683d2daba7c41d219db32bd8c9e0f0c9ae9fcb9d9fdf466f6"
   }
  }
 },
 "nbformat": 4,
 "nbformat_minor": 2
}
