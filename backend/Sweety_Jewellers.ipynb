{
 "cells": [
  {
   "cell_type": "markdown",
   "id": "dbf8394d",
   "metadata": {},
   "source": [
    "# Sweety Jewellers Price Mgmt App"
   ]
  },
  {
   "cell_type": "markdown",
   "id": "97fc42f2",
   "metadata": {},
   "source": [
    "## Dependencies:\n",
    "Pandas: `pip install pandas`<br>\n",
    "Pillow: `pip install pillow`<br>\n",
    "xlrd: `conda install -c conda-forge openpyxl`<br>\n",
    "tqdm: `pip install tqdm`<br>\n",
    "\n",
    "***Only for development environment***<br>\n",
    "Jupyter Notebook: `conda install -c conda-forge notebook`<br>\n",
    "Jupyter Notebook Conda Connectors: `conda install -c conda-forge nb_conda_kernels`<br>\n"
   ]
  },
  {
   "cell_type": "code",
   "execution_count": 1,
   "id": "09b7031d",
   "metadata": {},
   "outputs": [],
   "source": [
    "import os\n",
    "import json\n",
    "import time\n",
    "import logging\n",
    "import pandas as pd\n",
    "\n",
    "from tqdm import tqdm\n",
    "from datetime import datetime, timedelta\n",
    "from PIL import Image, ImageFont, ImageDraw"
   ]
  },
  {
   "cell_type": "markdown",
   "id": "1e8d2db1",
   "metadata": {},
   "source": [
    "## Logging"
   ]
  },
  {
   "cell_type": "code",
   "execution_count": 2,
   "id": "880f69e6",
   "metadata": {},
   "outputs": [],
   "source": [
    "if not os.path.exists(r\"backend/logs/\"):\n",
    "    logging.debug(\"No directory for logs found. Creating logs directory.\")\n",
    "    os.makedirs(r\"backend/logs/\")\n",
    "\n",
    "# Set up logging to file\n",
    "LOGGING_DIR = r'backend/logs/'\n",
    "session_startTime = datetime.now()\n",
    "local_tzname = (((session_startTime).astimezone()).tzinfo).tzname((session_startTime).astimezone())\n",
    "logfile = session_startTime.strftime(\"Session_%d%b%y_%H%M%S.log\")\n",
    "# NOTE: File logging has been limited to INFO level\n",
    "logging.basicConfig(format='%(name)s %(asctime)s: %(message)s', level=logging.INFO, datefmt='%d-%b-%y %H:%M:%S', filename=LOGGING_DIR+logfile)\n",
    "\n",
    "# Set up logging for display stdout\n",
    "console = logging.StreamHandler()\n",
    "# NOTE: File logging has been not restricted\n",
    "console.setLevel(logging.NOTSET)\n",
    "formatter = logging.Formatter('%(asctime)s: %(message)s')\n",
    "console.setFormatter(formatter)\n",
    "logging.getLogger().addHandler(console)"
   ]
  },
  {
   "cell_type": "markdown",
   "id": "e795deb4",
   "metadata": {},
   "source": [
    "## Main Stuff"
   ]
  },
  {
   "cell_type": "code",
   "execution_count": 3,
   "id": "a008d911",
   "metadata": {},
   "outputs": [],
   "source": [
    "SETTINGS_FILE = \"settings.json\"\n",
    "\n",
    "with open(SETTINGS_FILE, mode='r', encoding='utf-8-sig') as f:\n",
    "    settings = json.load(f)"
   ]
  },
  {
   "cell_type": "code",
   "execution_count": 4,
   "id": "d0e57999",
   "metadata": {},
   "outputs": [],
   "source": [
    "# Read XLSX File\n",
    "df = pd.read_excel(settings['xlsx_file'], engine='openpyxl')\n",
    "for col in df.columns:\n",
    "    if df.dtypes[col]=='O':\n",
    "        df[col].str.strip()\n",
    "df.set_index(\"Item Code\", inplace=True)\n",
    "\n",
    "# Check columns of XLSX file\n",
    "assert set([df.index.name]+list(df.columns))==set(settings['price_headings']+settings['non_price_headings']), f\"Columns configured in settings file do not match with columns in xlsx file.\\n\""
   ]
  },
  {
   "cell_type": "code",
   "execution_count": 5,
   "id": "4be4a899",
   "metadata": {},
   "outputs": [],
   "source": [
    "df['ip_file_path'] = ''\n",
    "df['time_period'] = ''\n",
    "df['op_file_path'] = ''"
   ]
  },
  {
   "cell_type": "code",
   "execution_count": 6,
   "id": "3545658c",
   "metadata": {},
   "outputs": [],
   "source": [
    "accepted_files = ['.jpg', \".jpeg\"]\n",
    "\n",
    "for time_period in settings['time_period_folders']:\n",
    "    for filename in os.listdir(settings[\"raw_img_folder\"]+r\"/\"+time_period+r\"/\"):\n",
    "        \n",
    "        # Check file extension\n",
    "        assert filename[-4:] in accepted_files, f\"Non-supported file found: {settings['raw_img_folder']}/{time_period}/{filename}\"\n",
    "        \n",
    "        item_code = filename[:-4]\n",
    "        \n",
    "        # If item_code not found in XLSX file\n",
    "        if item_code not in list(df.index):\n",
    "            logging.info(f\"Item '{item_code}' not found in XLSX file. Skipping item.\")\n",
    "            continue\n",
    "        \n",
    "        # Check if file was already found\n",
    "        assert df.loc[item_code]['ip_file_path']=='', f\"Image for {item_code} exists in two locations.\\nLocation 1: {settings['raw_img_folder']}/{time_period}/{filename}\\nLocation 2: {df.loc[item_code]['ip_file_path']}\"\n",
    "        \n",
    "        df.at[item_code, 'ip_file_path'] = settings['raw_img_folder']+r'/'+time_period+r'/'+filename\n",
    "        df.at[item_code, 'time_period'] = time_period\n",
    "        \n",
    "        op_file_path = df.at[item_code, 'Group']+r'/'+df.at[item_code, 'Category']+r'/'\n",
    "        if df.at[item_code, 'To Clear'] in ['Y', 'y']:\n",
    "            op_file_path = r'/To Clear/' + op_file_path\n",
    "        else:\n",
    "            op_file_path = time_period + r'/' + op_file_path\n",
    "        \n",
    "        df.at[item_code, 'op_file_path'] = op_file_path\n",
    "\n",
    "# Check if any entries did not find image\n",
    "for item_code in list(df[df['ip_file_path']==''].index):\n",
    "    logging.error(\"Did not find image for item code: \"+item_code)"
   ]
  },
  {
   "cell_type": "code",
   "execution_count": 7,
   "id": "0a5801e7",
   "metadata": {},
   "outputs": [],
   "source": [
    "def create_captioned_img(df, item_code, labels, cat=None):\n",
    "    \n",
    "    global settings\n",
    "    \n",
    "    FONT_SETTINGS = ImageFont.truetype(r\"backend/Roboto/Roboto-Regular.ttf\", 27)\n",
    "    IMG_WIDTH = 1000 # pixels\n",
    "    LINE_HEIGHT = 45 # pixels\n",
    "    LABELS_PER_LINE = settings['labels_per_line']\n",
    "    \n",
    "    pipeline = list()\n",
    "    total_height = 0\n",
    "    \n",
    "    raw_image = Image.open(df.at[item_code, 'ip_file_path'])\n",
    "    \n",
    "    # Resizing image\n",
    "    w,h = raw_image.size\n",
    "\n",
    "    new_height = int((h/w)*IMG_WIDTH)\n",
    "\n",
    "    logging.debug(f\"Resizing image to {IMG_WIDTH}px x {new_height}px.\")\n",
    "    raw_image = raw_image.resize((IMG_WIDTH, new_height))\n",
    "    pipeline.append(raw_image)\n",
    "    total_height += new_height\n",
    "    \n",
    "    # Blank line above\n",
    "    im = Image.new(mode=\"RGB\",size=(IMG_WIDTH, int(LINE_HEIGHT/2)), color=(250, 250, 250))\n",
    "    pipeline.append(im)\n",
    "    total_height += int(LINE_HEIGHT/2)\n",
    "    \n",
    "    # Preparing text to write\n",
    "    txt_lines = [[]]\n",
    "    for i in range(len(labels)):\n",
    "        \n",
    "        if len(txt_lines[-1])==LABELS_PER_LINE:\n",
    "            txt_lines.append(list())\n",
    "        \n",
    "        if labels[i]==df.index.name:\n",
    "            msg = labels[i]+\": \"+item_code\n",
    "        elif labels[i]==\"Rate/Unit\":\n",
    "            rate_per_unit = f\"{df.at[item_code, cat]:.2f}/\"+str(df.at[item_code, 'Unit']) \n",
    "            msg = \"Rate: ₹ \"+rate_per_unit\n",
    "        else:\n",
    "            msg = labels[i]+\": \"+str(df.at[item_code, labels[i]])\n",
    "        \n",
    "        txt_lines[-1].append(msg)\n",
    "    \n",
    "    # Writing text to image line-by-line\n",
    "    for lines in txt_lines:\n",
    "        im = Image.new(mode=\"RGB\",size=(IMG_WIDTH, LINE_HEIGHT), color=(250, 250, 250))\n",
    "        draw = ImageDraw.Draw(im)\n",
    "        msg = \"        \".join(lines)\n",
    "        draw.text((IMG_WIDTH/2, LINE_HEIGHT/2), msg, fill='black', font=FONT_SETTINGS, anchor='mm')\n",
    "        pipeline.append(im)\n",
    "        total_height += LINE_HEIGHT\n",
    "    \n",
    "    # Blank line above\n",
    "    im = Image.new(mode=\"RGB\",size=(IMG_WIDTH, int(LINE_HEIGHT/2)), color=(250, 250, 250))\n",
    "    pipeline.append(im)\n",
    "    total_height += int(LINE_HEIGHT/2)\n",
    "    \n",
    "    # Final Image\n",
    "    final_img = Image.new(mode='RGB', size=(IMG_WIDTH, total_height))\n",
    "    \n",
    "    height_counter = 0\n",
    "    for i in range(len(pipeline)):\n",
    "        final_img.paste(pipeline[i], box=(0, height_counter))\n",
    "        _, h = pipeline[i].size\n",
    "        height_counter += h\n",
    "    \n",
    "    return final_img\n",
    "    "
   ]
  },
  {
   "cell_type": "code",
   "execution_count": 8,
   "id": "a82cbac3",
   "metadata": {},
   "outputs": [
    {
     "name": "stderr",
     "output_type": "stream",
     "text": [
      "Creating images: 100%|███████████████████████████████████████████████████████████████| 11/11 [00:01<00:00,  6.00item/s]\n"
     ]
    }
   ],
   "source": [
    "OUTPUT_FOLDER = settings[\"out_img_folder\"]\n",
    "\n",
    "output = list()\n",
    "\n",
    "for item_code in tqdm(list(df.index), desc='Creating images: ', unit='item'):\n",
    "    \n",
    "    logging.debug(f\"Creating images for item '{item_code}'\")\n",
    "    \n",
    "    common_img = create_captioned_img(df, item_code, settings['common_labels'])\n",
    "    \n",
    "    for heading in settings['price_headings']:\n",
    "        if heading not in settings['exclusive_price_cols']:\n",
    "            \n",
    "            output_path = OUTPUT_FOLDER + r'/' + heading + r'/' + df.at[item_code, 'op_file_path']\n",
    "            \n",
    "            if not os.path.isdir(output_path):\n",
    "                os.makedirs(output_path)\n",
    "            \n",
    "            common_img.save(output_path+item_code+\".jpg\", format='JPEG')\n",
    "            \n",
    "    for heading in settings['exclusive_price_cols']:\n",
    "        \n",
    "        img = create_captioned_img(df, item_code, settings['common_labels']+settings['exclusive_labels'], cat=heading)\n",
    "        \n",
    "        output_path = OUTPUT_FOLDER + r'/' + heading + r'/' + df.at[item_code, 'op_file_path']\n",
    "            \n",
    "        if not os.path.isdir(output_path):\n",
    "            os.makedirs(output_path)\n",
    "\n",
    "        img.save(output_path+item_code+\".jpg\", format='JPEG')\n",
    "        "
   ]
  },
  {
   "cell_type": "code",
   "execution_count": null,
   "id": "38a56f52",
   "metadata": {},
   "outputs": [],
   "source": []
  }
 ],
 "metadata": {
  "kernelspec": {
   "display_name": "Python 3 (ipykernel)",
   "language": "python",
   "name": "python3"
  },
  "language_info": {
   "codemirror_mode": {
    "name": "ipython",
    "version": 3
   },
   "file_extension": ".py",
   "mimetype": "text/x-python",
   "name": "python",
   "nbconvert_exporter": "python",
   "pygments_lexer": "ipython3",
   "version": "3.7.13"
  }
 },
 "nbformat": 4,
 "nbformat_minor": 5
}
