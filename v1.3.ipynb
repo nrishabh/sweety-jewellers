{
 "cells": [
  {
   "cell_type": "markdown",
   "metadata": {},
   "source": [
    "# Sweety Jewellers Cataloging Program v3\n",
    "\n",
    "## Requirements\n",
    "\n",
    "**Python 3.9**<br>\n",
    "pandas: `pip install pandas`<br>\n",
    "openpyxl: `conda install -c conda-forge openpyxl`<br>\n",
    "fpdf: `pip install fpdf`<br>\n",
    "tqdm: `pip install tqdm`<br>\n",
    "\n",
    "### Testing\n",
    "notebook: `conda install -c conda-forge notebook`"
   ]
  },
  {
   "cell_type": "code",
   "execution_count": 29,
   "metadata": {},
   "outputs": [],
   "source": [
    "import os\n",
    "import time\n",
    "import logging\n",
    "import pandas as pd\n",
    "\n",
    "from datetime import datetime, timedelta\n",
    "from PIL import Image, ImageFont, ImageDraw"
   ]
  },
  {
   "cell_type": "code",
   "execution_count": 30,
   "metadata": {},
   "outputs": [],
   "source": [
    "if not os.path.exists(r\"logs/\"):\n",
    "    logging.debug(\"No directory for logs found. Creating logs directory.\")\n",
    "    os.makedirs(r\"logs/\")\n",
    "\n",
    "# Set up logging to file\n",
    "LOGGING_DIR = r'logs/'\n",
    "session_startTime = datetime.now()\n",
    "local_tzname = (((session_startTime).astimezone()).tzinfo).tzname((session_startTime).astimezone())\n",
    "logfile = session_startTime.strftime(\"Session_%d%b%y_%H%M%S.log\")\n",
    "# NOTE: File logging has been limited to INFO level\n",
    "logging.basicConfig(format='%(name)s %(asctime)s: %(message)s', level=logging.INFO, datefmt='%d-%b-%y %H:%M:%S', filename=LOGGING_DIR+logfile)\n",
    "\n",
    "# Set up logging for display stdout\n",
    "console = logging.StreamHandler()\n",
    "# NOTE: File logging has been not restricted\n",
    "console.setLevel(logging.NOTSET)\n",
    "formatter = logging.Formatter('%(asctime)s: %(message)s')\n",
    "console.setFormatter(formatter)\n",
    "logging.getLogger().addHandler(console)"
   ]
  },
  {
   "cell_type": "code",
   "execution_count": 31,
   "metadata": {},
   "outputs": [],
   "source": [
    "# SETTINGS\n",
    "XLSX_ITEMS = \"Items.xlsx\"\n",
    "XLSX_PURCHASES = \"Catalogue Purchase.xlsx\"\n",
    "NEW_STOCK_DATE = datetime.utcnow()+timedelta(hours=5, minutes=30)-timedelta(days=28)\n",
    "PRICE_COLS = [\"D\"]\n",
    "USEFUL_COLS = [\"Product Code\", \"Name\", \"Group\", \"Category\", \"Base Unit\", \"To Clear\", \"Min Qty\", \"Ord Unit\"]\n",
    "INP_FOLDER = \"JPG\"\n",
    "FONT_SIZE = 45\n",
    "FONT_FILE = r\"assets/font.ttf\"\n",
    "LABELS_PER_LINE = 2\n",
    "LINE_HEIGHT = 100\n",
    "OUT_FOLDER = \"Output\""
   ]
  },
  {
   "cell_type": "code",
   "execution_count": 32,
   "metadata": {},
   "outputs": [],
   "source": [
    "# Read Main Excel File\n",
    "df = pd.read_excel(XLSX_ITEMS, engine='openpyxl', skiprows=5, usecols=PRICE_COLS+USEFUL_COLS)\n",
    "\n",
    "# Strip whitespace in str columns\n",
    "for col in df.columns:\n",
    "    if df.dtypes[col]=='O':\n",
    "        df[col].str.strip()\n",
    "        df.fillna(value={col: \"\"})\n",
    "\n",
    "df.drop(index=0, inplace=True)\n",
    "\n",
    "df.set_index(\"Product Code\", inplace=True)\n",
    "\n",
    "df[\"Min Qty\"] = pd.to_numeric(df[\"Min Qty\"], downcast=\"integer\")"
   ]
  },
  {
   "cell_type": "code",
   "execution_count": 33,
   "metadata": {},
   "outputs": [],
   "source": [
    "# Reading Purchase Order Excel File\n",
    "purchase_data = pd.read_excel(XLSX_PURCHASES)\n",
    "\n",
    "for col in df.columns:\n",
    "    if df.dtypes[col]=='O':\n",
    "        df[col].str.strip()\n",
    "        df.fillna(value={col: \"\"})\n",
    "\n",
    "purchase_data.set_index(\"Item Name\", inplace=True)"
   ]
  },
  {
   "cell_type": "code",
   "execution_count": 34,
   "metadata": {},
   "outputs": [],
   "source": [
    "df['time_tag'] = \"\""
   ]
  },
  {
   "cell_type": "code",
   "execution_count": 35,
   "metadata": {},
   "outputs": [],
   "source": [
    "for i in list(df.index):\n",
    "    if df.at[i, \"To Clear\"] in [\"Y\", \"y\"]:\n",
    "        df.at[i, 'time_tag'] = \"To Clear\"\n",
    "        continue\n",
    "    else:\n",
    "        try:\n",
    "            last_purchase_date = max(purchase_data.at[i, 'Date'])\n",
    "        except KeyError as e:\n",
    "            df.at[i, 'time_tag'] = ''\n",
    "            continue\n",
    "        except TypeError as e:\n",
    "            last_purchase_date = purchase_data.at[i, 'Date']\n",
    "\n",
    "        if last_purchase_date>=NEW_STOCK_DATE:\n",
    "            df.at[i, 'time_tag'] = 'New This Month'\n",
    "        else:\n",
    "            df.at[i, 'time_tag'] = ''"
   ]
  },
  {
   "cell_type": "code",
   "execution_count": 36,
   "metadata": {},
   "outputs": [
    {
     "name": "stdout",
     "output_type": "stream",
     "text": [
      "SJ-SSP-105 is missing value in column D. This item will be skipped.\n",
      "SJ-SSP-22F33 is missing value in column D. This item will be skipped.\n"
     ]
    }
   ],
   "source": [
    "for col_index in range(len(PRICE_COLS)):\n",
    "    col = PRICE_COLS[col_index]\n",
    "    new_col = \"Rate_\"+col\n",
    "\n",
    "    df[new_col] = \"\"\n",
    "    for i in list(df.index):\n",
    "        if pd.isna(df.at[i, col]) is True:\n",
    "            print(f\"{i} is missing value in column {col}. This item will be skipped.\")\n",
    "        else:\n",
    "            df.at[i, new_col] = f\"Rs. {df.at[i, col]:.2f} per \"+str(df.at[i, \"Base Unit\"])\n",
    "\n",
    "    PRICE_COLS[col_index] = new_col"
   ]
  },
  {
   "cell_type": "code",
   "execution_count": 37,
   "metadata": {},
   "outputs": [],
   "source": [
    "df[\"Min Ord\"] = \"\"\n",
    "for item in df.index:\n",
    "    if pd.isna(df.at[item, \"Min Qty\"]) is True:\n",
    "        print(f\"{item} is missing value for Min Qty. This item will be skipped.\")\n",
    "    elif pd.isna(df.at[item, \"Ord Unit\"]) is True:\n",
    "        print(f\"{item} is missing value for Ord Unit. This item will be skipped.\")\n",
    "    else:\n",
    "        df.at[item, \"Min Ord\"] = str(df.at[item, \"Min Qty\"]) + \" \" + df.at[item, \"Ord Unit\"]"
   ]
  },
  {
   "cell_type": "code",
   "execution_count": 39,
   "metadata": {},
   "outputs": [
    {
     "name": "stdout",
     "output_type": "stream",
     "text": [
      "No image found for SJ-SSP-056.\n",
      "No image found for SJ-SSP-132L.\n",
      "No image found for SJ-SSP-21K11.\n",
      "No image found for SJ-SSP-21K13.\n",
      "No image found for SJ-SSP-22F33.\n",
      "No image found for SJ-SSP-22F55.\n",
      "No image found for SJ-SSP-22F57.\n"
     ]
    }
   ],
   "source": [
    "df['ip_file_path'] = ''\n",
    "filepaths = os.listdir(INP_FOLDER)\n",
    "for item in df.index:\n",
    "    if ((item+\".jpg\") in filepaths):\n",
    "        df.at[item, 'ip_file_path'] = INP_FOLDER+r\"/\"+item+\".jpg\"\n",
    "    elif ((item+\".jpeg\") in filepaths):\n",
    "        df.at[item, 'ip_file_path'] = INP_FOLDER+r\"/\"+item+\".jpeg\"\n",
    "    else:\n",
    "        print(f\"No image found for {item}.\")\n",
    "    "
   ]
  },
  {
   "cell_type": "code",
   "execution_count": 41,
   "metadata": {},
   "outputs": [],
   "source": [
    "def create_images(df, primary_key, labels, rate_col=None):\n",
    "    \n",
    "    global FONT_SIZE, FONT_FILE, LINE_HEIGHT, LABELS_PER_LINE\n",
    "\n",
    "    pipeline = list()\n",
    "    total_height = 0\n",
    "    \n",
    "    raw_image = Image.open(df.at[primary_key, 'ip_file_path'])\n",
    "    \n",
    "    # Resizing image\n",
    "    w,h = raw_image.size\n",
    "    \n",
    "    pipeline.append(raw_image)\n",
    "    total_height += h\n",
    "\n",
    "    font_size = int((w/2100)*FONT_SIZE)\n",
    "    FONT_SETTINGS = ImageFont.truetype(FONT_FILE, font_size)\n",
    "    LINE_HEIGHT = int((w/2100)*LINE_HEIGHT) # pixels\n",
    "    \n",
    "    \n",
    "    # Blank line above\n",
    "    im = Image.new(mode=\"RGB\",size=(w, int(LINE_HEIGHT/2)), color=(250, 250, 250))\n",
    "    pipeline.append(im)\n",
    "    total_height += int(LINE_HEIGHT/2)\n",
    "    \n",
    "    # Preparing text to write\n",
    "    txt_lines = [[]]\n",
    "    for i in range(len(labels)):\n",
    "        \n",
    "        if len(txt_lines[-1])==LABELS_PER_LINE:\n",
    "            txt_lines.append(list())\n",
    "        \n",
    "        if labels[i]==df.index.name:\n",
    "            msg = labels[i]+\": \"+primary_key\n",
    "        elif labels[i]==\"Rate\":\n",
    "            msg = \"Rate: \"+str(df.at[primary_key, \"Rate_\"+col])\n",
    "        else:\n",
    "            msg = labels[i]+\": \"+str(df.at[primary_key, labels[i]])\n",
    "        \n",
    "        txt_lines[-1].append(msg)\n",
    "    \n",
    "    # Writing text to image line-by-line\n",
    "    for lines in txt_lines:\n",
    "        im = Image.new(mode=\"RGB\",size=(w, LINE_HEIGHT), color=(250, 250, 250))\n",
    "        draw = ImageDraw.Draw(im)\n",
    "        msg = \"        \".join(lines)\n",
    "        draw.text((w/2, LINE_HEIGHT/2), msg, fill='black', font=FONT_SETTINGS, anchor='mm')\n",
    "        pipeline.append(im)\n",
    "        total_height += LINE_HEIGHT\n",
    "    \n",
    "    # Blank line below\n",
    "    im = Image.new(mode=\"RGB\",size=(w, int(LINE_HEIGHT/2)), color=(250, 250, 250))\n",
    "    pipeline.append(im)\n",
    "    total_height += int(LINE_HEIGHT/2)\n",
    "    \n",
    "    # Final Image\n",
    "    final_img = Image.new(mode='RGB', size=(w, total_height))\n",
    "    \n",
    "    height_counter = 0\n",
    "    for i in range(len(pipeline)):\n",
    "        final_img.paste(pipeline[i], box=(0, height_counter))\n",
    "        _, h = pipeline[i].size\n",
    "        height_counter += h\n",
    "    \n",
    "    return final_img"
   ]
  },
  {
   "cell_type": "code",
   "execution_count": 42,
   "metadata": {},
   "outputs": [],
   "source": [
    "if not os.path.isdir(OUT_FOLDER):\n",
    "    os.makedirs(OUT_FOLDER)\n",
    "\n",
    "#TODO: Split images into folders according to TIME_TAG ->  GROUP -> CATEGORY and GROUP -> CATEGORY -> TIME_TAG\n",
    "for item in df.index:\n",
    "    \n",
    "    if df.at[item, \"ip_file_path\"]=='':\n",
    "        continue\n",
    "    \n",
    "    if not os.path.isdir(OUT_FOLDER+r\"/\"+\"Wholesale\"):\n",
    "        os.makedirs(OUT_FOLDER+r\"/\"+\"Wholesale\")\n",
    "    img = create_images(df, item, labels=[\"Product Code\", \"Group\", \"Category\"])\n",
    "    img.save(OUT_FOLDER+r\"/\"+\"Wholesale\"+r\"/\"+item+\".jpg\")\n",
    "    del(img)\n",
    "    \n",
    "    for price_col in PRICE_COLS:\n",
    "        if not os.path.isdir(OUT_FOLDER+r\"/\"+price_col):\n",
    "            os.makedirs(OUT_FOLDER+r\"/\"+price_col)\n",
    "        if df.at[item, price_col]!='':\n",
    "            img = create_images(df, item, labels=[\"Product Code\", \"Group\", \"Category\", \"Rate\", \"Min Ord\"], rate_col=price_col)\n",
    "            img.save(OUT_FOLDER+r\"/\"+price_col+r\"/\"+item+\".jpg\")\n",
    "            del(img)"
   ]
  },
  {
   "cell_type": "code",
   "execution_count": 43,
   "metadata": {},
   "outputs": [],
   "source": [
    "#TODO: Create PDF."
   ]
  }
 ],
 "metadata": {
  "kernelspec": {
   "display_name": "Python 3.9.13 ('sweety')",
   "language": "python",
   "name": "python3"
  },
  "language_info": {
   "codemirror_mode": {
    "name": "ipython",
    "version": 3
   },
   "file_extension": ".py",
   "mimetype": "text/x-python",
   "name": "python",
   "nbconvert_exporter": "python",
   "pygments_lexer": "ipython3",
   "version": "3.9.13"
  },
  "orig_nbformat": 4,
  "vscode": {
   "interpreter": {
    "hash": "12ac1b1e0e659ae683d2daba7c41d219db32bd8c9e0f0c9ae9fcb9d9fdf466f6"
   }
  }
 },
 "nbformat": 4,
 "nbformat_minor": 2
}
